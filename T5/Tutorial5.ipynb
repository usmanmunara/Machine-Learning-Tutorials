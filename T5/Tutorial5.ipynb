{
 "cells": [
  {
   "cell_type": "markdown",
   "metadata": {},
   "source": [
    "# CS4487 - Tutorial 5: Predicting Popularity of Online News\n",
    "\n",
    "In this tutorial you will train regression models to predict the number of \"shares\" of a news article on Mashable.\n",
    "\n",
    "First we need to initialize Python.  Run the below cell."
   ]
  },
  {
   "cell_type": "code",
   "execution_count": 1,
   "metadata": {},
   "outputs": [],
   "source": [
    "%matplotlib inline\n",
    "import IPython.core.display         \n",
    "# setup output image format (Chrome works best)\n",
    "# IPython.core.display.set_matplotlib_formats(\"svg\")\n",
    "import matplotlib.pyplot as plt\n",
    "import matplotlib\n",
    "from numpy import *\n",
    "from sklearn import *\n",
    "import glob\n",
    "import os\n",
    "import csv\n",
    "import string\n",
    "random.seed(100)"
   ]
  },
  {
   "cell_type": "markdown",
   "metadata": {},
   "source": [
    "## 1. Loading Data and Pre-processing\n",
    "Next we need to load the data. **Unzip** `OnlineNewsPopularity.zip` in the same directory as this ipynb file.  Then run the following cell to load the data."
   ]
  },
  {
   "cell_type": "code",
   "execution_count": 2,
   "metadata": {},
   "outputs": [
    {
     "name": "stdout",
     "output_type": "stream",
     "text": [
      "(6608, 58)\n",
      "(6608,)\n"
     ]
    }
   ],
   "source": [
    "filename = 'OnlineNewsPopularity/OnlineNewsPopularity.csv'\n",
    "\n",
    "# read the data\n",
    "allfeatnames = []\n",
    "textdata      = []\n",
    "with open(filename, 'r') as f:\n",
    "    reader = csv.reader(f)\n",
    "    for row in reader:\n",
    "        if len(allfeatnames)==0:\n",
    "            allfeatnames = row\n",
    "        else:\n",
    "            textdata.append(row)\n",
    "\n",
    "# put the data into a np array\n",
    "dataX = empty((len(textdata), len(allfeatnames)-3))\n",
    "dataY = empty(len(textdata))\n",
    "for i,row in enumerate(textdata):\n",
    "    # extract features (remove the first 2 features and the last feature)\n",
    "    dataX[i,:] = array([float(x) for x in row[2:-1]])\n",
    "    # extract target (last entry)\n",
    "    dataY[i] = float(row[-1])\n",
    "    \n",
    "# extract feature names\n",
    "featnames = [x.strip() for x in allfeatnames[2:-1]]\n",
    "\n",
    "# extract a subset of data\n",
    "dataX = dataX[::6]\n",
    "dataY = dataY[::6]\n",
    "\n",
    "print(dataX.shape)\n",
    "print(dataY.shape)"
   ]
  },
  {
   "cell_type": "markdown",
   "metadata": {},
   "source": [
    "There are 58 features for each article.  Here are the feature names, and an example entry.  The actual description of the features can be found in the `OnlineNewsPopularity-features.txt` file."
   ]
  },
  {
   "cell_type": "code",
   "execution_count": 3,
   "metadata": {},
   "outputs": [
    {
     "name": "stdout",
     "output_type": "stream",
     "text": [
      "['n_tokens_title', 'n_tokens_content', 'n_unique_tokens', 'n_non_stop_words', 'n_non_stop_unique_tokens', 'num_hrefs', 'num_self_hrefs', 'num_imgs', 'num_videos', 'average_token_length', 'num_keywords', 'data_channel_is_lifestyle', 'data_channel_is_entertainment', 'data_channel_is_bus', 'data_channel_is_socmed', 'data_channel_is_tech', 'data_channel_is_world', 'kw_min_min', 'kw_max_min', 'kw_avg_min', 'kw_min_max', 'kw_max_max', 'kw_avg_max', 'kw_min_avg', 'kw_max_avg', 'kw_avg_avg', 'self_reference_min_shares', 'self_reference_max_shares', 'self_reference_avg_sharess', 'weekday_is_monday', 'weekday_is_tuesday', 'weekday_is_wednesday', 'weekday_is_thursday', 'weekday_is_friday', 'weekday_is_saturday', 'weekday_is_sunday', 'is_weekend', 'LDA_00', 'LDA_01', 'LDA_02', 'LDA_03', 'LDA_04', 'global_subjectivity', 'global_sentiment_polarity', 'global_rate_positive_words', 'global_rate_negative_words', 'rate_positive_words', 'rate_negative_words', 'avg_positive_polarity', 'min_positive_polarity', 'max_positive_polarity', 'avg_negative_polarity', 'min_negative_polarity', 'max_negative_polarity', 'title_subjectivity', 'title_sentiment_polarity', 'abs_title_subjectivity', 'abs_title_sentiment_polarity']\n",
      "--- example article features---\n",
      "[ 1.20000000e+01  2.19000000e+02  6.63594467e-01  9.99999992e-01\n",
      "  8.15384609e-01  4.00000000e+00  2.00000000e+00  1.00000000e+00\n",
      "  0.00000000e+00  4.68036530e+00  5.00000000e+00  0.00000000e+00\n",
      "  1.00000000e+00  0.00000000e+00  0.00000000e+00  0.00000000e+00\n",
      "  0.00000000e+00  0.00000000e+00  0.00000000e+00  0.00000000e+00\n",
      "  0.00000000e+00  0.00000000e+00  0.00000000e+00  0.00000000e+00\n",
      "  0.00000000e+00  0.00000000e+00  4.96000000e+02  4.96000000e+02\n",
      "  4.96000000e+02  1.00000000e+00  0.00000000e+00  0.00000000e+00\n",
      "  0.00000000e+00  0.00000000e+00  0.00000000e+00  0.00000000e+00\n",
      "  0.00000000e+00  5.00331204e-01  3.78278930e-01  4.00046751e-02\n",
      "  4.12626477e-02  4.01225435e-02  5.21617145e-01  9.25619835e-02\n",
      "  4.56621005e-02  1.36986301e-02  7.69230769e-01  2.30769231e-01\n",
      "  3.78636364e-01  1.00000000e-01  7.00000000e-01 -3.50000000e-01\n",
      " -6.00000000e-01 -2.00000000e-01  5.00000000e-01 -1.87500000e-01\n",
      "  0.00000000e+00  1.87500000e-01]\n",
      "--- example article target (# of shares)\n",
      "593.0\n"
     ]
    }
   ],
   "source": [
    "print(featnames)\n",
    "\n",
    "print(\"--- example article features---\")\n",
    "print(dataX[0])\n",
    "print(\"--- example article target (# of shares)\")\n",
    "print(dataY[0])"
   ]
  },
  {
   "cell_type": "markdown",
   "metadata": {},
   "source": [
    "Now separate the data into training and testing sets."
   ]
  },
  {
   "cell_type": "code",
   "execution_count": 4,
   "metadata": {},
   "outputs": [
    {
     "name": "stdout",
     "output_type": "stream",
     "text": [
      "(3304, 58)\n",
      "(3304, 58)\n"
     ]
    }
   ],
   "source": [
    "# randomly split data into 50% train and 50% test set\n",
    "trainX, testX, trainYo, testYo = \\\n",
    "  model_selection.train_test_split(dataX, dataY, \n",
    "  train_size=0.50, test_size=0.50, random_state=4487)\n",
    "\n",
    "print(trainX.shape)\n",
    "print(testX.shape)"
   ]
  },
  {
   "cell_type": "markdown",
   "metadata": {},
   "source": [
    "Finally, we normalize the input features."
   ]
  },
  {
   "cell_type": "code",
   "execution_count": 5,
   "metadata": {},
   "outputs": [],
   "source": [
    "# normalize feature values\n",
    "# this makes comparing weights more meaningful\n",
    "scaler = preprocessing.StandardScaler()  \n",
    "trainXn = scaler.fit_transform(trainX)  \n",
    "testXn  = scaler.transform(testX)    "
   ]
  },
  {
   "cell_type": "markdown",
   "metadata": {},
   "source": [
    "Because the target value (number of shares) has a large dynamic range, we will transform the target values through the log function."
   ]
  },
  {
   "cell_type": "code",
   "execution_count": 6,
   "metadata": {},
   "outputs": [
    {
     "data": {
      "image/png": "[encoded data removed]",
      "text/plain": [
       "<Figure size 720x216 with 2 Axes>"
      ]
     },
     "metadata": {
      "needs_background": "light"
     },
     "output_type": "display_data"
    }
   ],
   "source": [
    "# map targets to log-space\n",
    "%matplotlib inline\n",
    "trainY = log10(trainYo)\n",
    "testY  = log10(testYo)\n",
    "\n",
    "plt.figure(figsize=(10,3))\n",
    "plt.subplot(1,2,1)\n",
    "plt.hist(trainYo, 25);\n",
    "plt.title('histogram of Y values')\n",
    "plt.subplot(1,2,2)\n",
    "plt.hist(trainY, 25);\n",
    "plt.title(\"histogram of log(Y) values\");"
   ]
  },
  {
   "cell_type": "markdown",
   "metadata": {},
   "source": [
    "## 2. Prediction with Linear Regression\n",
    "\n",
    "First we will look at predicting the number of shares using simple linear regression models.  Use the training data to fit a linear model using Ordinary Least Squares and Ridge Regression.  Use cross-validation on the training set to select the optimal $\\alpha$ parameter for ridge regression."
   ]
  },
  {
   "cell_type": "code",
   "execution_count": 8,
   "metadata": {},
   "outputs": [
    {
     "data": {
      "text/plain": [
       "LinearRegression()"
      ]
     },
     "execution_count": 8,
     "metadata": {},
     "output_type": "execute_result"
    }
   ],
   "source": [
    "### INSERT YOUR CODE HERE\n",
    "## HINT: \n",
    "# 1. Ordinary Least Squares: linear_model.LinearRegression()\n",
    "# 2. Ridge Regression: linear_model.Ridge(alphas= )\n",
    "# 3. Rigge Regression with Cross-validation: linear_model.Ridge(alphas= )\n",
    "\n",
    "ols = linear_model.LinearRegression()\n",
    "ols.fit(trainXn, trainY)"
   ]
  },
  {
   "cell_type": "code",
   "execution_count": 9,
   "metadata": {
    "scrolled": false
   },
   "outputs": [
    {
     "name": "stdout",
     "output_type": "stream",
     "text": [
      "best alpha:  385.6620421163472\n",
      "train error:  0.28859917591560874\n",
      "test error :  0.2854267347255127\n"
     ]
    },
    {
     "data": {
      "image/png": "[encoded data removed]",
      "text/plain": [
       "<Figure size 720x216 with 2 Axes>"
      ]
     },
     "metadata": {
      "needs_background": "light"
     },
     "output_type": "display_data"
    }
   ],
   "source": [
    "%matplotlib inline\n",
    "\n",
    "alphas = logspace(-5,15,30)\n",
    "\n",
    "trainAEs = empty(len(alphas))\n",
    "testAEs  = empty(len(alphas))\n",
    "for i,a in enumerate(alphas):\n",
    "    rr = linear_model.Ridge(alpha=a)\n",
    "    rr.fit(trainXn, trainY)\n",
    "    \n",
    "    trainAEs[i] = metrics.mean_absolute_error(trainY, rr.predict(trainXn))\n",
    "    testAEs[i]  = metrics.mean_absolute_error(testY, rr.predict(testXn))\n",
    "\n",
    "plt.figure(figsize=(10,3))\n",
    "plt.subplot(1,2,1)\n",
    "plt.semilogx(alphas, trainAEs)\n",
    "plt.xlabel('alpha')\n",
    "plt.title('train AE')\n",
    "plt.grid(True)\n",
    "plt.subplot(1,2,2)\n",
    "plt.semilogx(alphas, testAEs)\n",
    "plt.xlabel('alpha')\n",
    "plt.title('test AE')\n",
    "plt.grid(True)\n",
    "    \n",
    "rr = linear_model.RidgeCV(alphas=alphas, cv=5)\n",
    "rr.fit(trainXn, trainY)\n",
    "\n",
    "print(\"best alpha: \", rr.alpha_)\n",
    "\n",
    "trainAE = metrics.mean_absolute_error(trainY, rr.predict(trainXn))\n",
    "testAE  = metrics.mean_absolute_error(testY,  rr.predict(testXn))\n",
    "\n",
    "print(\"train error: \", trainAE)\n",
    "print(\"test error : \", testAE)"
   ]
  },
  {
   "cell_type": "markdown",
   "metadata": {},
   "source": [
    "Compare the two models using the _average absolute error_ (AE) between the predictions and the true values.  Below is  code that will calculate AE for the training and test sets."
   ]
  },
  {
   "cell_type": "code",
   "execution_count": 10,
   "metadata": {},
   "outputs": [
    {
     "name": "stdout",
     "output_type": "stream",
     "text": [
      "OLS: train error = 0.2868817923560834\n",
      "OLS: test error = 189.21018338870027\n"
     ]
    }
   ],
   "source": [
    "# ols is the linear regression model\n",
    "trainAE = metrics.mean_absolute_error(trainY, ols.predict(trainXn))\n",
    "testAE  = metrics.mean_absolute_error(testY, ols.predict(testXn))\n",
    "print(\"OLS: train error =\", trainAE)\n",
    "print(\"OLS: test error =\", testAE)"
   ]
  },
  {
   "cell_type": "code",
   "execution_count": 11,
   "metadata": {},
   "outputs": [
    {
     "name": "stdout",
     "output_type": "stream",
     "text": [
      "RR: train error = 0.28859917591560874\n",
      "RR: test error = 0.2854267347255127\n"
     ]
    }
   ],
   "source": [
    "# rr is the ridge regression model\n",
    "trainAE = metrics.mean_absolute_error(trainY, rr.predict(trainXn))\n",
    "testAE  = metrics.mean_absolute_error(testY, rr.predict(testXn))\n",
    "print(\"RR: train error =\", trainAE)\n",
    "print(\"RR: test error =\", testAE)"
   ]
  },
  {
   "cell_type": "markdown",
   "metadata": {},
   "source": [
    "Which model has better prediction ability on the test set? Why?\n",
    "- **Ridge Regression has better prediction ability as the alpha is selected using cross validation which helps helps reduce over-fitting by using a penalty term. On the other hand Linear regression classifier is over-fitting on this data.**"
   ]
  },
  {
   "cell_type": "markdown",
   "metadata": {},
   "source": [
    "## 3. Which features are important?\n",
    "Next we will investigate which features are the most important for the prediction.  Use LASSO with cross-validation to learn the model, and print the training and testing error."
   ]
  },
  {
   "cell_type": "code",
   "execution_count": 13,
   "metadata": {},
   "outputs": [
    {
     "name": "stdout",
     "output_type": "stream",
     "text": [
      "Training MAE: 0.28966720935858153\n",
      "Test MAE: 311.24310731944894\n"
     ]
    }
   ],
   "source": [
    "### INSERT YOUR CODE HERE\n",
    "## HINT\n",
    "# 1. LASSO with Cross-validation: linear_model.LassoCV()\n",
    "\n",
    "las = linear_model.LassoCV(alphas = logspace(-5,15,30))\n",
    "las.fit(trainXn, trainY)\n",
    "\n",
    "predTrain = las.predict(trainXn)\n",
    "predTest = las.predict(testX)\n",
    "testLoss = metrics.mean_absolute_error(testY, predTest)\n",
    "trainingLoss = metrics.mean_absolute_error(trainY, predTrain)\n",
    "\n",
    "print(\"Training MAE: {}\".format(trainingLoss))\n",
    "print(\"Test MAE: {}\".format(testLoss))"
   ]
  },
  {
   "cell_type": "markdown",
   "metadata": {},
   "source": [
    "Examine the LASSO coefficients by sorting them in descending order."
   ]
  },
  {
   "cell_type": "code",
   "execution_count": 14,
   "metadata": {},
   "outputs": [
    {
     "name": "stdout",
     "output_type": "stream",
     "text": [
      "weight : feature description\n",
      " 0.080 : kw_avg_avg\n",
      "-0.043 : LDA_02\n",
      "-0.033 : data_channel_is_entertainment\n",
      "-0.026 : average_token_length\n",
      "-0.026 : kw_max_avg\n",
      " 0.024 : num_hrefs\n",
      " 0.022 : kw_min_min\n",
      " 0.022 : is_weekend\n",
      " 0.022 : global_subjectivity\n",
      " 0.019 : data_channel_is_socmed\n",
      " 0.018 : self_reference_avg_sharess\n",
      "-0.018 : data_channel_is_bus\n",
      " 0.017 : n_tokens_content\n",
      "-0.016 : kw_avg_min\n",
      " 0.013 : LDA_00\n",
      " 0.011 : title_sentiment_polarity\n",
      "-0.009 : data_channel_is_lifestyle\n",
      "-0.009 : max_positive_polarity\n",
      " 0.008 : weekday_is_sunday\n",
      "-0.008 : avg_negative_polarity\n",
      "-0.007 : LDA_01\n",
      " 0.006 : num_keywords\n",
      "-0.005 : kw_min_max\n",
      " 0.005 : n_tokens_title\n",
      "-0.004 : weekday_is_friday\n",
      " 0.004 : weekday_is_monday\n",
      " 0.003 : self_reference_max_shares\n",
      " 0.003 : LDA_03\n",
      "-0.003 : weekday_is_tuesday\n",
      " 0.002 : data_channel_is_tech\n",
      " 0.002 : num_imgs\n",
      "-0.001 : kw_avg_max\n",
      "-0.001 : min_positive_polarity\n",
      "-0.001 : rate_positive_words\n",
      "-0.000 : num_self_hrefs\n",
      " 0.000 : num_videos\n",
      "-0.000 : avg_positive_polarity\n",
      "-0.000 : min_negative_polarity\n",
      "-0.000 : max_negative_polarity\n",
      "-0.000 : n_non_stop_unique_tokens\n",
      "-0.000 : n_non_stop_words\n",
      "-0.000 : n_unique_tokens\n",
      " 0.000 : title_subjectivity\n",
      " 0.000 : rate_negative_words\n",
      "-0.000 : data_channel_is_world\n",
      " 0.000 : global_rate_negative_words\n",
      " 0.000 : weekday_is_thursday\n",
      "-0.000 : global_rate_positive_words\n",
      "-0.000 : kw_max_min\n",
      "-0.000 : global_sentiment_polarity\n",
      "-0.000 : LDA_04\n",
      "-0.000 : kw_max_max\n",
      " 0.000 : kw_min_avg\n",
      " 0.000 : weekday_is_saturday\n",
      " 0.000 : self_reference_min_shares\n",
      " 0.000 : abs_title_subjectivity\n",
      "-0.000 : weekday_is_wednesday\n",
      " 0.000 : abs_title_sentiment_polarity\n"
     ]
    }
   ],
   "source": [
    "# sort coefficients from smallest to largest, then reverse it\n",
    "inds = argsort(abs(las.coef_))[::-1]\n",
    "# print out\n",
    "print(\"weight : feature description\")\n",
    "for i in inds:\n",
    "    print(\"{: .3f} : {}\".format(las.coef_[i], featnames[i]))"
   ]
  },
  {
   "cell_type": "markdown",
   "metadata": {},
   "source": [
    "_Which features are most important for predicting the number of shares?  For these features, which feature values (low or high values) will yield a higher number of shares?_\n",
    "- **kw_avg_avg : High value of this feature will result in higher number of shares**\n",
    "- **LDA_02 : Low value of this feature will result in higher number of shares**\n",
    "- **kw_max_avg : Low value of this feature will result in higher number of shares**\n",
    "- **data_channel_is_entertainment : Low value of this feature will result in higher number of shares**"
   ]
  },
  {
   "cell_type": "markdown",
   "metadata": {},
   "source": [
    "## 3. Kernel Methods and Support Vector Regression \n",
    "Next, let us try some non-linear regression model such as[ kernel ridge regression](https://scikit-learn.org/stable/modules/kernel_ridge.html), [random forest regression](https://scikit-learn.org/stable/modules/generated/sklearn.ensemble.RandomForestRegressor.html)(Optional), [support vector regression](https://scikit-learn.org/stable/modules/generated/sklearn.svm.SVR.html). To improve the prediction accuracy in Tutorial 4, and using cross-validation on the training set to select the parameters. "
   ]
  },
  {
   "cell_type": "code",
   "execution_count": 31,
   "metadata": {},
   "outputs": [
    {
     "name": "stdout",
     "output_type": "stream",
     "text": [
      "Fitting 5 folds for each of 100 candidates, totalling 500 fits\n"
     ]
    },
    {
     "name": "stderr",
     "output_type": "stream",
     "text": [
      "[Parallel(n_jobs=-1)]: Using backend LokyBackend with 4 concurrent workers.\n",
      "[Parallel(n_jobs=-1)]: Done  42 tasks      | elapsed:   40.8s\n",
      "[Parallel(n_jobs=-1)]: Done 192 tasks      | elapsed:  3.0min\n"
     ]
    },
    {
     "ename": "KeyboardInterrupt",
     "evalue": "",
     "output_type": "error",
     "traceback": [
      "\u001b[1;31m---------------------------------------------------------------------------\u001b[0m",
      "\u001b[1;31mKeyboardInterrupt\u001b[0m                         Traceback (most recent call last)",
      "\u001b[1;32m<ipython-input-31-ea0d711a2d0d>\u001b[0m in \u001b[0;36m<module>\u001b[1;34m\u001b[0m\n\u001b[0;32m     34\u001b[0m \u001b[1;33m\u001b[0m\u001b[0m\n\u001b[0;32m     35\u001b[0m     \u001b[0mclfs\u001b[0m\u001b[1;33m[\u001b[0m\u001b[0mmethodName\u001b[0m\u001b[1;33m]\u001b[0m \u001b[1;33m=\u001b[0m \u001b[0mmodel_selection\u001b[0m\u001b[1;33m.\u001b[0m\u001b[0mGridSearchCV\u001b[0m\u001b[1;33m(\u001b[0m\u001b[0mmethod\u001b[0m\u001b[1;33m[\u001b[0m\u001b[1;34m'clf'\u001b[0m\u001b[1;33m]\u001b[0m\u001b[1;33m,\u001b[0m \u001b[0mparam_grid\u001b[0m\u001b[1;33m=\u001b[0m\u001b[0mmethod\u001b[0m\u001b[1;33m[\u001b[0m\u001b[1;34m'paramgrid'\u001b[0m\u001b[1;33m]\u001b[0m\u001b[1;33m,\u001b[0m \u001b[0mcv\u001b[0m\u001b[1;33m=\u001b[0m\u001b[1;36m5\u001b[0m\u001b[1;33m,\u001b[0m \u001b[0mverbose\u001b[0m\u001b[1;33m=\u001b[0m\u001b[1;36m1\u001b[0m\u001b[1;33m,\u001b[0m \u001b[0mn_jobs\u001b[0m\u001b[1;33m=\u001b[0m\u001b[1;33m-\u001b[0m\u001b[1;36m1\u001b[0m\u001b[1;33m)\u001b[0m\u001b[1;33m\u001b[0m\u001b[1;33m\u001b[0m\u001b[0m\n\u001b[1;32m---> 36\u001b[1;33m     \u001b[0mclfs\u001b[0m\u001b[1;33m[\u001b[0m\u001b[0mmethodName\u001b[0m\u001b[1;33m]\u001b[0m\u001b[1;33m.\u001b[0m\u001b[0mfit\u001b[0m\u001b[1;33m(\u001b[0m\u001b[0mtrainXn\u001b[0m\u001b[1;33m,\u001b[0m \u001b[0mtrainY\u001b[0m\u001b[1;33m)\u001b[0m\u001b[1;33m\u001b[0m\u001b[1;33m\u001b[0m\u001b[0m\n\u001b[0m\u001b[0;32m     37\u001b[0m \u001b[1;33m\u001b[0m\u001b[0m\n\u001b[0;32m     38\u001b[0m     \u001b[0mpredTrain\u001b[0m\u001b[1;33m[\u001b[0m\u001b[0mmethodName\u001b[0m\u001b[1;33m]\u001b[0m \u001b[1;33m=\u001b[0m \u001b[0mclfs\u001b[0m\u001b[1;33m[\u001b[0m\u001b[0mmethodName\u001b[0m\u001b[1;33m]\u001b[0m\u001b[1;33m.\u001b[0m\u001b[0mpredict\u001b[0m\u001b[1;33m(\u001b[0m\u001b[0mtrainXn\u001b[0m\u001b[1;33m)\u001b[0m\u001b[1;33m\u001b[0m\u001b[1;33m\u001b[0m\u001b[0m\n",
      "\u001b[1;32m~\\Anaconda3\\lib\\site-packages\\sklearn\\utils\\validation.py\u001b[0m in \u001b[0;36minner_f\u001b[1;34m(*args, **kwargs)\u001b[0m\n\u001b[0;32m     70\u001b[0m                           FutureWarning)\n\u001b[0;32m     71\u001b[0m         \u001b[0mkwargs\u001b[0m\u001b[1;33m.\u001b[0m\u001b[0mupdate\u001b[0m\u001b[1;33m(\u001b[0m\u001b[1;33m{\u001b[0m\u001b[0mk\u001b[0m\u001b[1;33m:\u001b[0m \u001b[0marg\u001b[0m \u001b[1;32mfor\u001b[0m \u001b[0mk\u001b[0m\u001b[1;33m,\u001b[0m \u001b[0marg\u001b[0m \u001b[1;32min\u001b[0m \u001b[0mzip\u001b[0m\u001b[1;33m(\u001b[0m\u001b[0msig\u001b[0m\u001b[1;33m.\u001b[0m\u001b[0mparameters\u001b[0m\u001b[1;33m,\u001b[0m \u001b[0margs\u001b[0m\u001b[1;33m)\u001b[0m\u001b[1;33m}\u001b[0m\u001b[1;33m)\u001b[0m\u001b[1;33m\u001b[0m\u001b[1;33m\u001b[0m\u001b[0m\n\u001b[1;32m---> 72\u001b[1;33m         \u001b[1;32mreturn\u001b[0m \u001b[0mf\u001b[0m\u001b[1;33m(\u001b[0m\u001b[1;33m**\u001b[0m\u001b[0mkwargs\u001b[0m\u001b[1;33m)\u001b[0m\u001b[1;33m\u001b[0m\u001b[1;33m\u001b[0m\u001b[0m\n\u001b[0m\u001b[0;32m     73\u001b[0m     \u001b[1;32mreturn\u001b[0m \u001b[0minner_f\u001b[0m\u001b[1;33m\u001b[0m\u001b[1;33m\u001b[0m\u001b[0m\n\u001b[0;32m     74\u001b[0m \u001b[1;33m\u001b[0m\u001b[0m\n",
      "\u001b[1;32m~\\Anaconda3\\lib\\site-packages\\sklearn\\model_selection\\_search.py\u001b[0m in \u001b[0;36mfit\u001b[1;34m(self, X, y, groups, **fit_params)\u001b[0m\n\u001b[0;32m    734\u001b[0m                 \u001b[1;32mreturn\u001b[0m \u001b[0mresults\u001b[0m\u001b[1;33m\u001b[0m\u001b[1;33m\u001b[0m\u001b[0m\n\u001b[0;32m    735\u001b[0m \u001b[1;33m\u001b[0m\u001b[0m\n\u001b[1;32m--> 736\u001b[1;33m             \u001b[0mself\u001b[0m\u001b[1;33m.\u001b[0m\u001b[0m_run_search\u001b[0m\u001b[1;33m(\u001b[0m\u001b[0mevaluate_candidates\u001b[0m\u001b[1;33m)\u001b[0m\u001b[1;33m\u001b[0m\u001b[1;33m\u001b[0m\u001b[0m\n\u001b[0m\u001b[0;32m    737\u001b[0m \u001b[1;33m\u001b[0m\u001b[0m\n\u001b[0;32m    738\u001b[0m         \u001b[1;31m# For multi-metric evaluation, store the best_index_, best_params_ and\u001b[0m\u001b[1;33m\u001b[0m\u001b[1;33m\u001b[0m\u001b[1;33m\u001b[0m\u001b[0m\n",
      "\u001b[1;32m~\\Anaconda3\\lib\\site-packages\\sklearn\\model_selection\\_search.py\u001b[0m in \u001b[0;36m_run_search\u001b[1;34m(self, evaluate_candidates)\u001b[0m\n\u001b[0;32m   1186\u001b[0m     \u001b[1;32mdef\u001b[0m \u001b[0m_run_search\u001b[0m\u001b[1;33m(\u001b[0m\u001b[0mself\u001b[0m\u001b[1;33m,\u001b[0m \u001b[0mevaluate_candidates\u001b[0m\u001b[1;33m)\u001b[0m\u001b[1;33m:\u001b[0m\u001b[1;33m\u001b[0m\u001b[1;33m\u001b[0m\u001b[0m\n\u001b[0;32m   1187\u001b[0m         \u001b[1;34m\"\"\"Search all candidates in param_grid\"\"\"\u001b[0m\u001b[1;33m\u001b[0m\u001b[1;33m\u001b[0m\u001b[0m\n\u001b[1;32m-> 1188\u001b[1;33m         \u001b[0mevaluate_candidates\u001b[0m\u001b[1;33m(\u001b[0m\u001b[0mParameterGrid\u001b[0m\u001b[1;33m(\u001b[0m\u001b[0mself\u001b[0m\u001b[1;33m.\u001b[0m\u001b[0mparam_grid\u001b[0m\u001b[1;33m)\u001b[0m\u001b[1;33m)\u001b[0m\u001b[1;33m\u001b[0m\u001b[1;33m\u001b[0m\u001b[0m\n\u001b[0m\u001b[0;32m   1189\u001b[0m \u001b[1;33m\u001b[0m\u001b[0m\n\u001b[0;32m   1190\u001b[0m \u001b[1;33m\u001b[0m\u001b[0m\n",
      "\u001b[1;32m~\\Anaconda3\\lib\\site-packages\\sklearn\\model_selection\\_search.py\u001b[0m in \u001b[0;36mevaluate_candidates\u001b[1;34m(candidate_params)\u001b[0m\n\u001b[0;32m    713\u001b[0m                                \u001b[1;32mfor\u001b[0m \u001b[0mparameters\u001b[0m\u001b[1;33m,\u001b[0m \u001b[1;33m(\u001b[0m\u001b[0mtrain\u001b[0m\u001b[1;33m,\u001b[0m \u001b[0mtest\u001b[0m\u001b[1;33m)\u001b[0m\u001b[1;33m\u001b[0m\u001b[1;33m\u001b[0m\u001b[0m\n\u001b[0;32m    714\u001b[0m                                in product(candidate_params,\n\u001b[1;32m--> 715\u001b[1;33m                                           cv.split(X, y, groups)))\n\u001b[0m\u001b[0;32m    716\u001b[0m \u001b[1;33m\u001b[0m\u001b[0m\n\u001b[0;32m    717\u001b[0m                 \u001b[1;32mif\u001b[0m \u001b[0mlen\u001b[0m\u001b[1;33m(\u001b[0m\u001b[0mout\u001b[0m\u001b[1;33m)\u001b[0m \u001b[1;33m<\u001b[0m \u001b[1;36m1\u001b[0m\u001b[1;33m:\u001b[0m\u001b[1;33m\u001b[0m\u001b[1;33m\u001b[0m\u001b[0m\n",
      "\u001b[1;32m~\\Anaconda3\\lib\\site-packages\\joblib\\parallel.py\u001b[0m in \u001b[0;36m__call__\u001b[1;34m(self, iterable)\u001b[0m\n\u001b[0;32m    932\u001b[0m \u001b[1;33m\u001b[0m\u001b[0m\n\u001b[0;32m    933\u001b[0m             \u001b[1;32mwith\u001b[0m \u001b[0mself\u001b[0m\u001b[1;33m.\u001b[0m\u001b[0m_backend\u001b[0m\u001b[1;33m.\u001b[0m\u001b[0mretrieval_context\u001b[0m\u001b[1;33m(\u001b[0m\u001b[1;33m)\u001b[0m\u001b[1;33m:\u001b[0m\u001b[1;33m\u001b[0m\u001b[1;33m\u001b[0m\u001b[0m\n\u001b[1;32m--> 934\u001b[1;33m                 \u001b[0mself\u001b[0m\u001b[1;33m.\u001b[0m\u001b[0mretrieve\u001b[0m\u001b[1;33m(\u001b[0m\u001b[1;33m)\u001b[0m\u001b[1;33m\u001b[0m\u001b[1;33m\u001b[0m\u001b[0m\n\u001b[0m\u001b[0;32m    935\u001b[0m             \u001b[1;31m# Make sure that we get a last message telling us we are done\u001b[0m\u001b[1;33m\u001b[0m\u001b[1;33m\u001b[0m\u001b[1;33m\u001b[0m\u001b[0m\n\u001b[0;32m    936\u001b[0m             \u001b[0melapsed_time\u001b[0m \u001b[1;33m=\u001b[0m \u001b[0mtime\u001b[0m\u001b[1;33m.\u001b[0m\u001b[0mtime\u001b[0m\u001b[1;33m(\u001b[0m\u001b[1;33m)\u001b[0m \u001b[1;33m-\u001b[0m \u001b[0mself\u001b[0m\u001b[1;33m.\u001b[0m\u001b[0m_start_time\u001b[0m\u001b[1;33m\u001b[0m\u001b[1;33m\u001b[0m\u001b[0m\n",
      "\u001b[1;32m~\\Anaconda3\\lib\\site-packages\\joblib\\parallel.py\u001b[0m in \u001b[0;36mretrieve\u001b[1;34m(self)\u001b[0m\n\u001b[0;32m    831\u001b[0m             \u001b[1;32mtry\u001b[0m\u001b[1;33m:\u001b[0m\u001b[1;33m\u001b[0m\u001b[1;33m\u001b[0m\u001b[0m\n\u001b[0;32m    832\u001b[0m                 \u001b[1;32mif\u001b[0m \u001b[0mgetattr\u001b[0m\u001b[1;33m(\u001b[0m\u001b[0mself\u001b[0m\u001b[1;33m.\u001b[0m\u001b[0m_backend\u001b[0m\u001b[1;33m,\u001b[0m \u001b[1;34m'supports_timeout'\u001b[0m\u001b[1;33m,\u001b[0m \u001b[1;32mFalse\u001b[0m\u001b[1;33m)\u001b[0m\u001b[1;33m:\u001b[0m\u001b[1;33m\u001b[0m\u001b[1;33m\u001b[0m\u001b[0m\n\u001b[1;32m--> 833\u001b[1;33m                     \u001b[0mself\u001b[0m\u001b[1;33m.\u001b[0m\u001b[0m_output\u001b[0m\u001b[1;33m.\u001b[0m\u001b[0mextend\u001b[0m\u001b[1;33m(\u001b[0m\u001b[0mjob\u001b[0m\u001b[1;33m.\u001b[0m\u001b[0mget\u001b[0m\u001b[1;33m(\u001b[0m\u001b[0mtimeout\u001b[0m\u001b[1;33m=\u001b[0m\u001b[0mself\u001b[0m\u001b[1;33m.\u001b[0m\u001b[0mtimeout\u001b[0m\u001b[1;33m)\u001b[0m\u001b[1;33m)\u001b[0m\u001b[1;33m\u001b[0m\u001b[1;33m\u001b[0m\u001b[0m\n\u001b[0m\u001b[0;32m    834\u001b[0m                 \u001b[1;32melse\u001b[0m\u001b[1;33m:\u001b[0m\u001b[1;33m\u001b[0m\u001b[1;33m\u001b[0m\u001b[0m\n\u001b[0;32m    835\u001b[0m                     \u001b[0mself\u001b[0m\u001b[1;33m.\u001b[0m\u001b[0m_output\u001b[0m\u001b[1;33m.\u001b[0m\u001b[0mextend\u001b[0m\u001b[1;33m(\u001b[0m\u001b[0mjob\u001b[0m\u001b[1;33m.\u001b[0m\u001b[0mget\u001b[0m\u001b[1;33m(\u001b[0m\u001b[1;33m)\u001b[0m\u001b[1;33m)\u001b[0m\u001b[1;33m\u001b[0m\u001b[1;33m\u001b[0m\u001b[0m\n",
      "\u001b[1;32m~\\Anaconda3\\lib\\site-packages\\joblib\\_parallel_backends.py\u001b[0m in \u001b[0;36mwrap_future_result\u001b[1;34m(future, timeout)\u001b[0m\n\u001b[0;32m    519\u001b[0m         AsyncResults.get from multiprocessing.\"\"\"\n\u001b[0;32m    520\u001b[0m         \u001b[1;32mtry\u001b[0m\u001b[1;33m:\u001b[0m\u001b[1;33m\u001b[0m\u001b[1;33m\u001b[0m\u001b[0m\n\u001b[1;32m--> 521\u001b[1;33m             \u001b[1;32mreturn\u001b[0m \u001b[0mfuture\u001b[0m\u001b[1;33m.\u001b[0m\u001b[0mresult\u001b[0m\u001b[1;33m(\u001b[0m\u001b[0mtimeout\u001b[0m\u001b[1;33m=\u001b[0m\u001b[0mtimeout\u001b[0m\u001b[1;33m)\u001b[0m\u001b[1;33m\u001b[0m\u001b[1;33m\u001b[0m\u001b[0m\n\u001b[0m\u001b[0;32m    522\u001b[0m         \u001b[1;32mexcept\u001b[0m \u001b[0mLokyTimeoutError\u001b[0m\u001b[1;33m:\u001b[0m\u001b[1;33m\u001b[0m\u001b[1;33m\u001b[0m\u001b[0m\n\u001b[0;32m    523\u001b[0m             \u001b[1;32mraise\u001b[0m \u001b[0mTimeoutError\u001b[0m\u001b[1;33m(\u001b[0m\u001b[1;33m)\u001b[0m\u001b[1;33m\u001b[0m\u001b[1;33m\u001b[0m\u001b[0m\n",
      "\u001b[1;32m~\\Anaconda3\\lib\\concurrent\\futures\\_base.py\u001b[0m in \u001b[0;36mresult\u001b[1;34m(self, timeout)\u001b[0m\n\u001b[0;32m    425\u001b[0m                 \u001b[1;32mreturn\u001b[0m \u001b[0mself\u001b[0m\u001b[1;33m.\u001b[0m\u001b[0m__get_result\u001b[0m\u001b[1;33m(\u001b[0m\u001b[1;33m)\u001b[0m\u001b[1;33m\u001b[0m\u001b[1;33m\u001b[0m\u001b[0m\n\u001b[0;32m    426\u001b[0m \u001b[1;33m\u001b[0m\u001b[0m\n\u001b[1;32m--> 427\u001b[1;33m             \u001b[0mself\u001b[0m\u001b[1;33m.\u001b[0m\u001b[0m_condition\u001b[0m\u001b[1;33m.\u001b[0m\u001b[0mwait\u001b[0m\u001b[1;33m(\u001b[0m\u001b[0mtimeout\u001b[0m\u001b[1;33m)\u001b[0m\u001b[1;33m\u001b[0m\u001b[1;33m\u001b[0m\u001b[0m\n\u001b[0m\u001b[0;32m    428\u001b[0m \u001b[1;33m\u001b[0m\u001b[0m\n\u001b[0;32m    429\u001b[0m             \u001b[1;32mif\u001b[0m \u001b[0mself\u001b[0m\u001b[1;33m.\u001b[0m\u001b[0m_state\u001b[0m \u001b[1;32min\u001b[0m \u001b[1;33m[\u001b[0m\u001b[0mCANCELLED\u001b[0m\u001b[1;33m,\u001b[0m \u001b[0mCANCELLED_AND_NOTIFIED\u001b[0m\u001b[1;33m]\u001b[0m\u001b[1;33m:\u001b[0m\u001b[1;33m\u001b[0m\u001b[1;33m\u001b[0m\u001b[0m\n",
      "\u001b[1;32m~\\Anaconda3\\lib\\threading.py\u001b[0m in \u001b[0;36mwait\u001b[1;34m(self, timeout)\u001b[0m\n\u001b[0;32m    294\u001b[0m         \u001b[1;32mtry\u001b[0m\u001b[1;33m:\u001b[0m    \u001b[1;31m# restore state no matter what (e.g., KeyboardInterrupt)\u001b[0m\u001b[1;33m\u001b[0m\u001b[1;33m\u001b[0m\u001b[0m\n\u001b[0;32m    295\u001b[0m             \u001b[1;32mif\u001b[0m \u001b[0mtimeout\u001b[0m \u001b[1;32mis\u001b[0m \u001b[1;32mNone\u001b[0m\u001b[1;33m:\u001b[0m\u001b[1;33m\u001b[0m\u001b[1;33m\u001b[0m\u001b[0m\n\u001b[1;32m--> 296\u001b[1;33m                 \u001b[0mwaiter\u001b[0m\u001b[1;33m.\u001b[0m\u001b[0macquire\u001b[0m\u001b[1;33m(\u001b[0m\u001b[1;33m)\u001b[0m\u001b[1;33m\u001b[0m\u001b[1;33m\u001b[0m\u001b[0m\n\u001b[0m\u001b[0;32m    297\u001b[0m                 \u001b[0mgotit\u001b[0m \u001b[1;33m=\u001b[0m \u001b[1;32mTrue\u001b[0m\u001b[1;33m\u001b[0m\u001b[1;33m\u001b[0m\u001b[0m\n\u001b[0;32m    298\u001b[0m             \u001b[1;32melse\u001b[0m\u001b[1;33m:\u001b[0m\u001b[1;33m\u001b[0m\u001b[1;33m\u001b[0m\u001b[0m\n",
      "\u001b[1;31mKeyboardInterrupt\u001b[0m: "
     ]
    }
   ],
   "source": [
    "### INSERT YOUR CODE HERE\n",
    "##Hint: \n",
    "## 1. Kernel Ridge Regression:  kernel_ridge.KernelRidge(kernel='rbf'/'poly')\n",
    "## 2. Random Forest Regression: ensemble.RandomForestRegressor(random_state= , n_estimators= )\n",
    "## 3. Support Vector Regression: svm.SVR(kernel='poly')\n",
    "## 4. Avoid using large values of $C$ with SVR.\n",
    "\n",
    "\n",
    "methods = [\n",
    "    {'name': 'krr-rbf',\n",
    "     'clf': kernel_ridge.KernelRidge(kernel='rbf'),\n",
    "     'paramgrid': {'alpha': logspace(-3,3,10), 'gamma': logspace(-6,3,10)}\n",
    "    }, \n",
    "    {'name': 'rf',\n",
    "     'clf': ensemble.RandomForestRegressor(random_state=4487, n_estimators=100),\n",
    "     'paramgrid': {'max_depth': array([1, 2, 3, 4, 5, 10, 15])}\n",
    "    }, \n",
    "    {'name': 'svr-poly',\n",
    "     'clf': svm.SVR(kernel='poly'),\n",
    "     'paramgrid':  {'C': logspace(-3,0,5), 'degree': [1,2], 'epsilon': logspace(-2,2,5)}\n",
    "    }, \n",
    "]\n",
    "\n",
    "clfs = {}\n",
    "\n",
    "predTrain = {}\n",
    "predTest = {}\n",
    "\n",
    "trainAE = {}\n",
    "testAE = {}\n",
    "\n",
    "for i, method in enumerate(methods):\n",
    "    methodName = method['name']\n",
    "    \n",
    "    clfs[methodName] = model_selection.GridSearchCV(method['clf'], param_grid=method['paramgrid'], cv=5, verbose=1, n_jobs=-1)\n",
    "    clfs[methodName].fit(trainXn, trainY)\n",
    "    \n",
    "    predTrain[methodName] = clfs[methodName].predict(trainXn)\n",
    "    predTest[methodName] = clfs[methodName].predict(testXn)\n",
    "    \n",
    "    trainAE[methodName] = metrics.mean_absolute_error(trainY, predTrain[methodName])\n",
    "    testAE[methodName]  = metrics.mean_absolute_error(testY, predTest[methodName])"
   ]
  },
  {
   "cell_type": "code",
   "execution_count": null,
   "metadata": {},
   "outputs": [],
   "source": [
    "for key in trainAE:\n",
    "    print(\"Training MAE - \"+ key + \": \" + str(trainAE[key]))\n",
    "    \n",
    "for key in testAE:\n",
    "    print(\"Testing MAE - \"+ key + \": \" + str(testAE[key]))"
   ]
  },
  {
   "cell_type": "code",
   "execution_count": 26,
   "metadata": {},
   "outputs": [
    {
     "name": "stderr",
     "output_type": "stream",
     "text": [
      "[Parallel(n_jobs=-1)]: Using backend ThreadingBackend with 4 concurrent workers.\n",
      ".............................................................................................................................................................................................................................................................................................................................C:\\Users\\Muhammad Usman\\Anaconda3\\lib\\site-packages\\sklearn\\linear_model\\_coordinate_descent.py:527: ConvergenceWarning: Objective did not converge. You might want to increase the number of iterations. Duality gap: 4.637885813098052, tolerance: 4.468952155620218\n",
      "  tol, rng, random, positive)\n",
      "........C:\\Users\\Muhammad Usman\\Anaconda3\\lib\\site-packages\\sklearn\\linear_model\\_coordinate_descent.py:527: ConvergenceWarning: Objective did not converge. You might want to increase the number of iterations. Duality gap: 6.6517537897998125, tolerance: 4.468952155620218\n",
      "  tol, rng, random, positive)\n",
      "..C:\\Users\\Muhammad Usman\\Anaconda3\\lib\\site-packages\\sklearn\\linear_model\\_coordinate_descent.py:527: ConvergenceWarning: Objective did not converge. You might want to increase the number of iterations. Duality gap: 5.561081759353698, tolerance: 4.6517788077229305\n",
      "  tol, rng, random, positive)\n",
      ".....C:\\Users\\Muhammad Usman\\Anaconda3\\lib\\site-packages\\sklearn\\linear_model\\_coordinate_descent.py:527: ConvergenceWarning: Objective did not converge. You might want to increase the number of iterations. Duality gap: 5.59721667795057, tolerance: 4.6517788077229305\n",
      "  tol, rng, random, positive)\n",
      ".C:\\Users\\Muhammad Usman\\Anaconda3\\lib\\site-packages\\sklearn\\linear_model\\_coordinate_descent.py:527: ConvergenceWarning: Objective did not converge. You might want to increase the number of iterations. Duality gap: 8.705016783970393, tolerance: 4.468952155620218\n",
      "  tol, rng, random, positive)\n",
      "....C:\\Users\\Muhammad Usman\\Anaconda3\\lib\\site-packages\\sklearn\\linear_model\\_coordinate_descent.py:527: ConvergenceWarning: Objective did not converge. You might want to increase the number of iterations. Duality gap: 8.649998866300109, tolerance: 4.6517788077229305\n",
      "  tol, rng, random, positive)\n",
      ".C:\\Users\\Muhammad Usman\\Anaconda3\\lib\\site-packages\\sklearn\\linear_model\\_coordinate_descent.py:527: ConvergenceWarning: Objective did not converge. You might want to increase the number of iterations. Duality gap: 8.78317553357013, tolerance: 4.468952155620218\n",
      "  tol, rng, random, positive)\n",
      "..C:\\Users\\Muhammad Usman\\Anaconda3\\lib\\site-packages\\sklearn\\linear_model\\_coordinate_descent.py:527: ConvergenceWarning: Objective did not converge. You might want to increase the number of iterations. Duality gap: 4.886801889806264, tolerance: 4.535620050982014\n",
      "  tol, rng, random, positive)\n",
      "..C:\\Users\\Muhammad Usman\\Anaconda3\\lib\\site-packages\\sklearn\\linear_model\\_coordinate_descent.py:527: ConvergenceWarning: Objective did not converge. You might want to increase the number of iterations. Duality gap: 9.299833440418837, tolerance: 4.6517788077229305\n",
      "  tol, rng, random, positive)\n",
      "..C:\\Users\\Muhammad Usman\\Anaconda3\\lib\\site-packages\\sklearn\\linear_model\\_coordinate_descent.py:527: ConvergenceWarning: Objective did not converge. You might want to increase the number of iterations. Duality gap: 8.986443350782679, tolerance: 4.468952155620218\n",
      "  tol, rng, random, positive)\n",
      "..............C:\\Users\\Muhammad Usman\\Anaconda3\\lib\\site-packages\\sklearn\\linear_model\\_coordinate_descent.py:527: ConvergenceWarning: Objective did not converge. You might want to increase the number of iterations. Duality gap: 5.516945043445162, tolerance: 4.535620050982014\n",
      "  tol, rng, random, positive)\n",
      ".............................................C:\\Users\\Muhammad Usman\\Anaconda3\\lib\\site-packages\\sklearn\\linear_model\\_coordinate_descent.py:527: ConvergenceWarning: Objective did not converge. You might want to increase the number of iterations. Duality gap: 4.970403898156263, tolerance: 4.6517788077229305\n",
      "  tol, rng, random, positive)\n",
      ".....C:\\Users\\Muhammad Usman\\Anaconda3\\lib\\site-packages\\sklearn\\linear_model\\_coordinate_descent.py:527: ConvergenceWarning: Objective did not converge. You might want to increase the number of iterations. Duality gap: 9.141801960362415, tolerance: 4.468952155620218\n",
      "  tol, rng, random, positive)\n",
      "...C:\\Users\\Muhammad Usman\\Anaconda3\\lib\\site-packages\\sklearn\\linear_model\\_coordinate_descent.py:527: ConvergenceWarning: Objective did not converge. You might want to increase the number of iterations. Duality gap: 4.854919931915987, tolerance: 4.535620050982014\n",
      "  tol, rng, random, positive)\n",
      "..........C:\\Users\\Muhammad Usman\\Anaconda3\\lib\\site-packages\\sklearn\\linear_model\\_coordinate_descent.py:527: ConvergenceWarning: Objective did not converge. You might want to increase the number of iterations. Duality gap: 8.113043567604421, tolerance: 4.468952155620218\n",
      "  tol, rng, random, positive)\n",
      ".C:\\Users\\Muhammad Usman\\Anaconda3\\lib\\site-packages\\sklearn\\linear_model\\_coordinate_descent.py:527: ConvergenceWarning: Objective did not converge. You might want to increase the number of iterations. Duality gap: 8.68406437233611, tolerance: 4.6517788077229305\n",
      "  tol, rng, random, positive)\n",
      ".....C:\\Users\\Muhammad Usman\\Anaconda3\\lib\\site-packages\\sklearn\\linear_model\\_coordinate_descent.py:527: ConvergenceWarning: Objective did not converge. You might want to increase the number of iterations. Duality gap: 11.697330775431624, tolerance: 4.535620050982014\n",
      "  tol, rng, random, positive)\n",
      ".C:\\Users\\Muhammad Usman\\Anaconda3\\lib\\site-packages\\sklearn\\linear_model\\_coordinate_descent.py:527: ConvergenceWarning: Objective did not converge. You might want to increase the number of iterations. Duality gap: 11.737789096215408, tolerance: 4.468952155620218\n",
      "  tol, rng, random, positive)\n",
      ".C:\\Users\\Muhammad Usman\\Anaconda3\\lib\\site-packages\\sklearn\\linear_model\\_coordinate_descent.py:527: ConvergenceWarning: Objective did not converge. You might want to increase the number of iterations. Duality gap: 6.250440677868994, tolerance: 4.6517788077229305\n",
      "  tol, rng, random, positive)\n",
      "...........C:\\Users\\Muhammad Usman\\Anaconda3\\lib\\site-packages\\sklearn\\linear_model\\_coordinate_descent.py:527: ConvergenceWarning: Objective did not converge. You might want to increase the number of iterations. Duality gap: 12.789007687121483, tolerance: 4.535620050982014\n",
      "  tol, rng, random, positive)\n",
      ".C:\\Users\\Muhammad Usman\\Anaconda3\\lib\\site-packages\\sklearn\\linear_model\\_coordinate_descent.py:527: ConvergenceWarning: Objective did not converge. You might want to increase the number of iterations. Duality gap: 10.597340596366848, tolerance: 4.468952155620218\n",
      "  tol, rng, random, positive)\n",
      "..C:\\Users\\Muhammad Usman\\Anaconda3\\lib\\site-packages\\sklearn\\linear_model\\_coordinate_descent.py:527: ConvergenceWarning: Objective did not converge. You might want to increase the number of iterations. Duality gap: 7.128442032693357, tolerance: 4.589222750537921\n",
      "  tol, rng, random, positive)\n",
      ".C:\\Users\\Muhammad Usman\\Anaconda3\\lib\\site-packages\\sklearn\\linear_model\\_coordinate_descent.py:527: ConvergenceWarning: Objective did not converge. You might want to increase the number of iterations. Duality gap: 10.663018608400563, tolerance: 4.535620050982014\n",
      "  tol, rng, random, positive)\n",
      ".C:\\Users\\Muhammad Usman\\Anaconda3\\lib\\site-packages\\sklearn\\linear_model\\_coordinate_descent.py:527: ConvergenceWarning: Objective did not converge. You might want to increase the number of iterations. Duality gap: 6.041931101477871, tolerance: 4.468952155620218\n",
      "  tol, rng, random, positive)\n",
      "...C:\\Users\\Muhammad Usman\\Anaconda3\\lib\\site-packages\\sklearn\\linear_model\\_coordinate_descent.py:527: ConvergenceWarning: Objective did not converge. You might want to increase the number of iterations. Duality gap: 8.238761492226985, tolerance: 4.589222750537921\n",
      "  tol, rng, random, positive)\n",
      "..C:\\Users\\Muhammad Usman\\Anaconda3\\lib\\site-packages\\sklearn\\linear_model\\_coordinate_descent.py:527: ConvergenceWarning: Objective did not converge. You might want to increase the number of iterations. Duality gap: 10.078347411410647, tolerance: 4.535620050982014\n",
      "  tol, rng, random, positive)\n",
      "...C:\\Users\\Muhammad Usman\\Anaconda3\\lib\\site-packages\\sklearn\\linear_model\\_coordinate_descent.py:527: ConvergenceWarning: Objective did not converge. You might want to increase the number of iterations. Duality gap: 8.509896631817213, tolerance: 4.589222750537921\n",
      "  tol, rng, random, positive)\n"
     ]
    },
    {
     "name": "stderr",
     "output_type": "stream",
     "text": [
      "..C:\\Users\\Muhammad Usman\\Anaconda3\\lib\\site-packages\\sklearn\\linear_model\\_coordinate_descent.py:527: ConvergenceWarning: Objective did not converge. You might want to increase the number of iterations. Duality gap: 12.205706920128279, tolerance: 4.535620050982014\n",
      "  tol, rng, random, positive)\n",
      "..C:\\Users\\Muhammad Usman\\Anaconda3\\lib\\site-packages\\sklearn\\linear_model\\_coordinate_descent.py:527: ConvergenceWarning: Objective did not converge. You might want to increase the number of iterations. Duality gap: 10.028215138369234, tolerance: 4.589222750537921\n",
      "  tol, rng, random, positive)\n",
      "...C:\\Users\\Muhammad Usman\\Anaconda3\\lib\\site-packages\\sklearn\\linear_model\\_coordinate_descent.py:527: ConvergenceWarning: Objective did not converge. You might want to increase the number of iterations. Duality gap: 9.917926995750946, tolerance: 4.535620050982014\n",
      "  tol, rng, random, positive)\n",
      ".C:\\Users\\Muhammad Usman\\Anaconda3\\lib\\site-packages\\sklearn\\linear_model\\_coordinate_descent.py:527: ConvergenceWarning: Objective did not converge. You might want to increase the number of iterations. Duality gap: 18.803970714039394, tolerance: 4.589222750537921\n",
      "  tol, rng, random, positive)\n",
      "....C:\\Users\\Muhammad Usman\\Anaconda3\\lib\\site-packages\\sklearn\\linear_model\\_coordinate_descent.py:527: ConvergenceWarning: Objective did not converge. You might want to increase the number of iterations. Duality gap: 22.724337027348014, tolerance: 4.589222750537921\n",
      "  tol, rng, random, positive)\n",
      ".C:\\Users\\Muhammad Usman\\Anaconda3\\lib\\site-packages\\sklearn\\linear_model\\_coordinate_descent.py:527: ConvergenceWarning: Objective did not converge. You might want to increase the number of iterations. Duality gap: 7.6261175838978374, tolerance: 4.535620050982014\n",
      "  tol, rng, random, positive)\n",
      "....C:\\Users\\Muhammad Usman\\Anaconda3\\lib\\site-packages\\sklearn\\linear_model\\_coordinate_descent.py:527: ConvergenceWarning: Objective did not converge. You might want to increase the number of iterations. Duality gap: 19.70287404106972, tolerance: 4.589222750537921\n",
      "  tol, rng, random, positive)\n",
      ".C:\\Users\\Muhammad Usman\\Anaconda3\\lib\\site-packages\\sklearn\\linear_model\\_coordinate_descent.py:527: ConvergenceWarning: Objective did not converge. You might want to increase the number of iterations. Duality gap: 10.066902255753291, tolerance: 4.535620050982014\n",
      "  tol, rng, random, positive)\n",
      "..C:\\Users\\Muhammad Usman\\Anaconda3\\lib\\site-packages\\sklearn\\linear_model\\_coordinate_descent.py:527: ConvergenceWarning: Objective did not converge. You might want to increase the number of iterations. Duality gap: 16.793301260136445, tolerance: 4.589222750537921\n",
      "  tol, rng, random, positive)\n",
      ".C:\\Users\\Muhammad Usman\\Anaconda3\\lib\\site-packages\\sklearn\\linear_model\\_coordinate_descent.py:527: ConvergenceWarning: Objective did not converge. You might want to increase the number of iterations. Duality gap: 6.7173600588384375, tolerance: 4.468952155620218\n",
      "  tol, rng, random, positive)\n",
      "..C:\\Users\\Muhammad Usman\\Anaconda3\\lib\\site-packages\\sklearn\\linear_model\\_coordinate_descent.py:527: ConvergenceWarning: Objective did not converge. You might want to increase the number of iterations. Duality gap: 10.820405784324493, tolerance: 4.535620050982014\n",
      "  tol, rng, random, positive)\n",
      "..C:\\Users\\Muhammad Usman\\Anaconda3\\lib\\site-packages\\sklearn\\linear_model\\_coordinate_descent.py:527: ConvergenceWarning: Objective did not converge. You might want to increase the number of iterations. Duality gap: 16.136543345940623, tolerance: 4.589222750537921\n",
      "  tol, rng, random, positive)\n",
      ".C:\\Users\\Muhammad Usman\\Anaconda3\\lib\\site-packages\\sklearn\\linear_model\\_coordinate_descent.py:527: ConvergenceWarning: Objective did not converge. You might want to increase the number of iterations. Duality gap: 12.904898012999013, tolerance: 4.6517788077229305\n",
      "  tol, rng, random, positive)\n",
      ".C:\\Users\\Muhammad Usman\\Anaconda3\\lib\\site-packages\\sklearn\\linear_model\\_coordinate_descent.py:527: ConvergenceWarning: Objective did not converge. You might want to increase the number of iterations. Duality gap: 10.20619434290117, tolerance: 4.535620050982014\n",
      "  tol, rng, random, positive)\n",
      ".C:\\Users\\Muhammad Usman\\Anaconda3\\lib\\site-packages\\sklearn\\linear_model\\_coordinate_descent.py:527: ConvergenceWarning: Objective did not converge. You might want to increase the number of iterations. Duality gap: 7.0640419401930785, tolerance: 4.468952155620218\n",
      "  tol, rng, random, positive)\n",
      ".C:\\Users\\Muhammad Usman\\Anaconda3\\lib\\site-packages\\sklearn\\linear_model\\_coordinate_descent.py:527: ConvergenceWarning: Objective did not converge. You might want to increase the number of iterations. Duality gap: 18.642189045422214, tolerance: 4.589222750537921\n",
      "  tol, rng, random, positive)\n",
      ".C:\\Users\\Muhammad Usman\\Anaconda3\\lib\\site-packages\\sklearn\\linear_model\\_coordinate_descent.py:527: ConvergenceWarning: Objective did not converge. You might want to increase the number of iterations. Duality gap: 13.738047011086081, tolerance: 4.6517788077229305\n",
      "  tol, rng, random, positive)\n",
      ".C:\\Users\\Muhammad Usman\\Anaconda3\\lib\\site-packages\\sklearn\\linear_model\\_coordinate_descent.py:527: ConvergenceWarning: Objective did not converge. You might want to increase the number of iterations. Duality gap: 13.319759248666742, tolerance: 4.589222750537921\n",
      "  tol, rng, random, positive)\n",
      ".C:\\Users\\Muhammad Usman\\Anaconda3\\lib\\site-packages\\sklearn\\linear_model\\_coordinate_descent.py:527: ConvergenceWarning: Objective did not converge. You might want to increase the number of iterations. Duality gap: 12.124407211515177, tolerance: 4.535620050982014\n",
      "  tol, rng, random, positive)\n",
      ".C:\\Users\\Muhammad Usman\\Anaconda3\\lib\\site-packages\\sklearn\\linear_model\\_coordinate_descent.py:527: ConvergenceWarning: Objective did not converge. You might want to increase the number of iterations. Duality gap: 13.53661474884953, tolerance: 4.6517788077229305\n",
      "  tol, rng, random, positive)\n",
      "C:\\Users\\Muhammad Usman\\Anaconda3\\lib\\site-packages\\sklearn\\linear_model\\_coordinate_descent.py:527: ConvergenceWarning: Objective did not converge. You might want to increase the number of iterations. Duality gap: 11.444018220788053, tolerance: 4.589222750537921\n",
      "  tol, rng, random, positive)\n",
      "..C:\\Users\\Muhammad Usman\\Anaconda3\\lib\\site-packages\\sklearn\\linear_model\\_coordinate_descent.py:527: ConvergenceWarning: Objective did not converge. You might want to increase the number of iterations. Duality gap: 14.354714227612249, tolerance: 4.535620050982014\n",
      "  tol, rng, random, positive)\n",
      ".C:\\Users\\Muhammad Usman\\Anaconda3\\lib\\site-packages\\sklearn\\linear_model\\_coordinate_descent.py:527: ConvergenceWarning: Objective did not converge. You might want to increase the number of iterations. Duality gap: 10.42385837132656, tolerance: 4.589222750537921\n",
      "  tol, rng, random, positive)\n",
      ".C:\\Users\\Muhammad Usman\\Anaconda3\\lib\\site-packages\\sklearn\\linear_model\\_coordinate_descent.py:527: ConvergenceWarning: Objective did not converge. You might want to increase the number of iterations. Duality gap: 14.094102377835071, tolerance: 4.6517788077229305\n",
      "  tol, rng, random, positive)\n",
      ".C:\\Users\\Muhammad Usman\\Anaconda3\\lib\\site-packages\\sklearn\\linear_model\\_coordinate_descent.py:527: ConvergenceWarning: Objective did not converge. You might want to increase the number of iterations. Duality gap: 14.029139219619083, tolerance: 4.535620050982014\n",
      "  tol, rng, random, positive)\n",
      ".C:\\Users\\Muhammad Usman\\Anaconda3\\lib\\site-packages\\sklearn\\linear_model\\_coordinate_descent.py:527: ConvergenceWarning: Objective did not converge. You might want to increase the number of iterations. Duality gap: 9.136651967620082, tolerance: 4.589222750537921\n",
      "  tol, rng, random, positive)\n",
      ".C:\\Users\\Muhammad Usman\\Anaconda3\\lib\\site-packages\\sklearn\\linear_model\\_coordinate_descent.py:527: ConvergenceWarning: Objective did not converge. You might want to increase the number of iterations. Duality gap: 7.192416366584581, tolerance: 4.589222750537921\n",
      "  tol, rng, random, positive)\n",
      ".C:\\Users\\Muhammad Usman\\Anaconda3\\lib\\site-packages\\sklearn\\linear_model\\_coordinate_descent.py:527: ConvergenceWarning: Objective did not converge. You might want to increase the number of iterations. Duality gap: 6.200930558437449, tolerance: 4.589222750537921\n",
      "  tol, rng, random, positive)\n"
     ]
    },
    {
     "name": "stderr",
     "output_type": "stream",
     "text": [
      ".C:\\Users\\Muhammad Usman\\Anaconda3\\lib\\site-packages\\sklearn\\linear_model\\_coordinate_descent.py:527: ConvergenceWarning: Objective did not converge. You might want to increase the number of iterations. Duality gap: 7.686081580803204, tolerance: 4.589222750537921\n",
      "  tol, rng, random, positive)\n",
      ".....[Parallel(n_jobs=-1)]: Done   5 out of   5 | elapsed:  4.8min finished\n"
     ]
    },
    {
     "name": "stdout",
     "output_type": "stream",
     "text": [
      "train error: 0.2852662482810267\n",
      "test error : 0.2858450846165216\n"
     ]
    }
   ],
   "source": [
    "# LASSO - poly features\n",
    "polyfeats = preprocessing.PolynomialFeatures(degree=2)\n",
    "trainXnf  = polyfeats.fit_transform(trainXn)\n",
    "testXnf   = polyfeats.transform(testXn) \n",
    "\n",
    "myname = 'las-poly'\n",
    "clfs[myname] = linear_model.LassoCV(max_iter=2000, tol=1e-2, verbose=1, n_jobs=-1)\n",
    "clfs[myname].fit(trainXnf, trainY)\n",
    "trainAE[myname] = metrics.mean_absolute_error(trainY, clfs[myname].predict(trainXnf))\n",
    "testAE[myname]  = metrics.mean_absolute_error(testY, clfs[myname].predict(testXnf))\n",
    "\n",
    "print(\"train error:\", trainAE[myname])\n",
    "print(\"test error :\", testAE[myname])"
   ]
  },
  {
   "cell_type": "code",
   "execution_count": 27,
   "metadata": {},
   "outputs": [
    {
     "name": "stdout",
     "output_type": "stream",
     "text": [
      "1770\n",
      "weight : feature description\n",
      " 0.089 : kw_avg_avg(1) \n",
      " 0.018 : kw_min_avg(2) \n",
      "-0.015 : data_channel_is_entertainment(2) \n",
      "-0.011 : LDA_02(2) \n",
      " 0.009 : kw_min_min(2) \n",
      "-0.009 : data_channel_is_world(1) LDA_02(1) \n",
      " 0.008 : data_channel_is_socmed(1) LDA_00(1) \n",
      " 0.008 : weekday_is_sunday(2) \n",
      " 0.008 : global_subjectivity(1) \n",
      "-0.008 : data_channel_is_world(1) rate_negative_words(1) \n",
      " 0.007 : n_tokens_content(2) \n",
      "-0.006 : n_tokens_content(1) num_imgs(1) \n",
      "-0.006 : data_channel_is_lifestyle(1) max_positive_polarity(1) \n",
      "-0.006 : weekday_is_monday(1) title_sentiment_polarity(1) \n",
      " 0.006 : weekday_is_thursday(1) title_sentiment_polarity(1) \n",
      " 0.006 : num_videos(1) data_channel_is_bus(1) \n",
      " 0.006 : kw_max_avg(1) LDA_00(1) \n",
      " 0.006 : data_channel_is_tech(2) \n",
      " 0.006 : num_keywords(1) kw_avg_max(1) \n",
      "-0.005 : n_tokens_title(1) n_tokens_content(1) \n",
      "-0.005 : kw_max_max(1) title_sentiment_polarity(1) \n",
      " 0.005 : n_unique_tokens(1) rate_negative_words(1) \n",
      " 0.004 : num_hrefs(2) \n",
      " 0.004 : kw_avg_avg(1) LDA_00(1) \n",
      " 0.004 : data_channel_is_socmed(2) \n",
      " 0.004 : title_sentiment_polarity(1) abs_title_sentiment_polarity(1) \n",
      " 0.004 : weekday_is_saturday(2) \n",
      " 0.004 : n_tokens_content(1) num_hrefs(1) \n",
      "-0.003 : kw_max_avg(2) \n",
      "-0.003 : n_tokens_title(1) n_non_stop_words(1) \n",
      " 0.003 : LDA_00(1) global_rate_positive_words(1) \n",
      "-0.003 : num_imgs(1) data_channel_is_socmed(1) \n",
      " 0.003 : LDA_00(2) \n",
      "-0.003 : weekday_is_monday(1) global_rate_negative_words(1) \n",
      "-0.002 : data_channel_is_lifestyle(1) avg_positive_polarity(1) \n",
      " 0.002 : kw_min_avg(1) weekday_is_monday(1) \n",
      " 0.002 : weekday_is_friday(1) max_positive_polarity(1) \n",
      "-0.002 : kw_min_avg(1) kw_max_avg(1) \n",
      " 0.002 : kw_max_avg(1) self_reference_max_shares(1) \n",
      " 0.002 : LDA_03(1) rate_negative_words(1) \n",
      "-0.002 : num_hrefs(1) data_channel_is_socmed(1) \n",
      "-0.002 : num_self_hrefs(2) \n",
      "-0.002 : kw_min_avg(1) self_reference_max_shares(1) \n",
      "-0.002 : num_keywords(1) data_channel_is_tech(1) \n",
      " 0.001 : n_tokens_title(1) LDA_03(1) \n",
      "-0.001 : LDA_03(1) global_rate_positive_words(1) \n",
      "-0.001 : data_channel_is_lifestyle(2) \n",
      " 0.001 : global_sentiment_polarity(1) min_positive_polarity(1) \n",
      " 0.001 : weekday_is_monday(2) \n",
      "-0.001 : kw_avg_avg(1) is_weekend(1) \n",
      " 0.001 : num_imgs(1) min_positive_polarity(1) \n",
      "-0.001 : num_keywords(2) \n",
      "-0.001 : kw_avg_max(1) kw_min_avg(1) \n",
      " 0.001 : num_imgs(2) \n",
      "-0.001 : num_videos(1) kw_max_avg(1) \n"
     ]
    }
   ],
   "source": [
    "# sort coefficients from smallest to largest, then reverse it\n",
    "inds = argsort(abs(clfs['las-poly'].coef_))[::-1]\n",
    "print(len(polyfeats.powers_))\n",
    "# print out\n",
    "print(\"weight : feature description\")\n",
    "for i in inds:\n",
    "    if abs(clfs['las-poly'].coef_[i])>1e-3:\n",
    "        # get active features and powers\n",
    "        pows = where(polyfeats.powers_[i])[0]\n",
    "        fstr = \"\"\n",
    "        for p in pows:\n",
    "            fstr += featnames[p] + \"(\" + str(polyfeats.powers_[i][p]) + \") \"\n",
    "        print(\"{: .3f} : {}\".format(clfs['las-poly'].coef_[i], fstr))"
   ]
  },
  {
   "cell_type": "markdown",
   "metadata": {},
   "source": [
    "_Which regression method performs the best? Why do you think so?_\n",
    "- **I think all the polynomial methods performed better as higher degree polynomial kernels allow a more flexible decision boundary.**"
   ]
  },
  {
   "cell_type": "code",
   "execution_count": null,
   "metadata": {},
   "outputs": [],
   "source": []
  }
 ],
 "metadata": {
  "anaconda-cloud": {},
  "kernelspec": {
   "display_name": "Python 3",
   "language": "python",
   "name": "python3"
  },
  "language_info": {
   "codemirror_mode": {
    "name": "ipython",
    "version": 3
   },
   "file_extension": ".py",
   "mimetype": "text/x-python",
   "name": "python",
   "nbconvert_exporter": "python",
   "pygments_lexer": "ipython3",
   "version": "3.7.3"
  }
 },
 "nbformat": 4,
 "nbformat_minor": 1
}
